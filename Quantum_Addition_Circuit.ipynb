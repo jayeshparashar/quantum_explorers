{
 "cells": [
  {
   "cell_type": "code",
   "execution_count": 44,
   "metadata": {},
   "outputs": [],
   "source": [
    "import numpy as np\n",
    "from qiskit import QuantumCircuit, ClassicalRegister, QuantumRegister, Aer, execute\n",
    "from qiskit.visualization import plot_bloch_multivector, plot_histogram"
   ]
  },
  {
   "cell_type": "code",
   "execution_count": 45,
   "metadata": {},
   "outputs": [
    {
     "data": {
      "text/html": [
       "<pre style=\"word-wrap: normal;white-space: pre;background: #fff0;line-height: 1.1;font-family: &quot;Courier New&quot;,Courier,monospace\">          ┌───┐                     \n",
       "inputs_0: ┤ H ├──■─────────■────────\n",
       "          ├───┤  │         │        \n",
       "inputs_1: ┤ H ├──┼────■────■────────\n",
       "          └───┘┌─┴─┐┌─┴─┐  │  ┌─┐   \n",
       "   aux_0: ─────┤ X ├┤ X ├──┼──┤M├───\n",
       "               └───┘└───┘┌─┴─┐└╥┘┌─┐\n",
       "   aux_1: ───────────────┤ X ├─╫─┤M├\n",
       "                         └───┘ ║ └╥┘\n",
       "   c20: 2/═════════════════════╩══╩═\n",
       "                               0  1 </pre>"
      ],
      "text/plain": [
       "          ┌───┐                     \n",
       "inputs_0: ┤ H ├──■─────────■────────\n",
       "          ├───┤  │         │        \n",
       "inputs_1: ┤ H ├──┼────■────■────────\n",
       "          └───┘┌─┴─┐┌─┴─┐  │  ┌─┐   \n",
       "   aux_0: ─────┤ X ├┤ X ├──┼──┤M├───\n",
       "               └───┘└───┘┌─┴─┐└╥┘┌─┐\n",
       "   aux_1: ───────────────┤ X ├─╫─┤M├\n",
       "                         └───┘ ║ └╥┘\n",
       "   c20: 2/═════════════════════╩══╩═\n",
       "                               0  1 "
      ]
     },
     "execution_count": 45,
     "metadata": {},
     "output_type": "execute_result"
    }
   ],
   "source": [
    "qr_inp = QuantumRegister(2,'inputs')\n",
    "qr_work = QuantumRegister(2,'aux')\n",
    "cr = ClassicalRegister(2)\n",
    "qc_addition = QuantumCircuit(qr_inp, qr_work,cr)\n",
    "qc_addition.h(0)\n",
    "qc_addition.h(1)\n",
    "qc_addition.cx(qr_inp[0], qr_work[0])\n",
    "qc_addition.cx(qr_inp[1], qr_work[0])\n",
    "qc_addition.ccx(qr_inp[0], qr_inp[1], qr_work[1])\n",
    "qc_addition.measure(qr_work, cr)\n",
    "qc_addition.draw()"
   ]
  },
  {
   "cell_type": "code",
   "execution_count": 46,
   "metadata": {},
   "outputs": [
    {
     "name": "stdout",
     "output_type": "stream",
     "text": [
      "{'01': 525, '10': 247, '00': 228}\n"
     ]
    },
    {
     "data": {
      "image/png": "[encoded data removed]",
      "text/plain": [
       "<Figure size 504x360 with 1 Axes>"
      ]
     },
     "execution_count": 46,
     "metadata": {},
     "output_type": "execute_result"
    }
   ],
   "source": [
    "backend = Aer.get_backend('qasm_simulator')\n",
    "cnts = execute(qc_addition, backend, shots=1000).result().get_counts(qc_addition)\n",
    "print(cnts)\n",
    "plot_histogram(cnts)"
   ]
  },
  {
   "cell_type": "code",
   "execution_count": 47,
   "metadata": {},
   "outputs": [
    {
     "data": {
      "text/html": [
       "<pre style=\"word-wrap: normal;white-space: pre;background: #fff0;line-height: 1.1;font-family: &quot;Courier New&quot;,Courier,monospace\">                         ┌───┐┌─┐\n",
       "inputs_0: ───────■────■──┤ X ├┤M├\n",
       "                 │  ┌─┴─┐└┬─┬┘└╥┘\n",
       "inputs_1: ───────■──┤ X ├─┤M├──╫─\n",
       "          ┌───┐┌─┴─┐└┬─┬┘ └╥┘  ║ \n",
       "inputs_2: ┤ X ├┤ X ├─┤M├───╫───╫─\n",
       "          └───┘└───┘ └╥┘   ║   ║ \n",
       "   c21: 3/════════════╩════╩═══╩═\n",
       "                      2    1   0 </pre>"
      ],
      "text/plain": [
       "                         ┌───┐┌─┐\n",
       "inputs_0: ───────■────■──┤ X ├┤M├\n",
       "                 │  ┌─┴─┐└┬─┬┘└╥┘\n",
       "inputs_1: ───────■──┤ X ├─┤M├──╫─\n",
       "          ┌───┐┌─┴─┐└┬─┬┘ └╥┘  ║ \n",
       "inputs_2: ┤ X ├┤ X ├─┤M├───╫───╫─\n",
       "          └───┘└───┘ └╥┘   ║   ║ \n",
       "   c21: 3/════════════╩════╩═══╩═\n",
       "                      2    1   0 "
      ]
     },
     "execution_count": 47,
     "metadata": {},
     "output_type": "execute_result"
    }
   ],
   "source": [
    "# additon by one\n",
    "qr_inp = QuantumRegister(3,'inputs')\n",
    "cr = ClassicalRegister(3)\n",
    "qc_add_One = QuantumCircuit(qr_inp, cr)\n",
    "#qc_add_One.x(1)\n",
    "qc_add_One.x(2) # set initial value as 100\n",
    "qc_add_One.ccx(0,1,2)\n",
    "qc_add_One.cx(0,1)\n",
    "qc_add_One.x(0)\n",
    "qc_add_One.measure(qr_inp, cr)\n",
    "qc_add_One.draw()"
   ]
  },
  {
   "cell_type": "code",
   "execution_count": 48,
   "metadata": {},
   "outputs": [
    {
     "name": "stdout",
     "output_type": "stream",
     "text": [
      "{'101': 1000}\n"
     ]
    },
    {
     "data": {
      "image/png": "[encoded data removed]",
      "text/plain": [
       "<Figure size 504x360 with 1 Axes>"
      ]
     },
     "execution_count": 48,
     "metadata": {},
     "output_type": "execute_result"
    }
   ],
   "source": [
    "backend = Aer.get_backend('qasm_simulator')\n",
    "cnts = execute(qc_add_One, backend, shots=1000).result().get_counts()\n",
    "print(cnts)\n",
    "plot_histogram(cnts)"
   ]
  },
  {
   "cell_type": "code",
   "execution_count": 50,
   "metadata": {},
   "outputs": [],
   "source": [
    "# end of program"
   ]
  },
  {
   "cell_type": "code",
   "execution_count": null,
   "metadata": {},
   "outputs": [],
   "source": []
  }
 ],
 "metadata": {
  "kernelspec": {
   "display_name": "Python 3",
   "language": "python",
   "name": "python3"
  },
  "language_info": {
   "codemirror_mode": {
    "name": "ipython",
    "version": 3
   },
   "file_extension": ".py",
   "mimetype": "text/x-python",
   "name": "python",
   "nbconvert_exporter": "python",
   "pygments_lexer": "ipython3",
   "version": "3.8.5"
  }
 },
 "nbformat": 4,
 "nbformat_minor": 4
}
